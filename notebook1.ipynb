{
 "cells": [
  {
   "cell_type": "markdown",
   "id": "39888d9a",
   "metadata": {},
   "source": [
    "## CESAR MEDINA"
   ]
  },
  {
   "cell_type": "code",
   "execution_count": 1,
   "id": "398059fe",
   "metadata": {},
   "outputs": [
    {
     "data": {
      "text/html": [
       "<iframe width=\"560\" height=\"315\" src=\"https://www.youtube.com/embed/6Vr9ZUntCyE\" title=\"YouTube video player\" frameborder=\"0\" allow=\"accelerometer; autoplay; clipboard-write; encrypted-media; gyroscope; picture-in-picture\" allowfullscreen></iframe>\n"
      ],
      "text/plain": [
       "<IPython.core.display.HTML object>"
      ]
     },
     "metadata": {},
     "output_type": "display_data"
    }
   ],
   "source": [
    "%%HTML\n",
    "<iframe width=\"560\" height=\"315\" src=\"https://www.youtube.com/embed/6Vr9ZUntCyE\" title=\"YouTube video player\" frameborder=\"0\" allow=\"accelerometer; autoplay; clipboard-write; encrypted-media; gyroscope; picture-in-picture\" allowfullscreen></iframe>"
   ]
  },
  {
   "cell_type": "markdown",
   "id": "1eca9b3c",
   "metadata": {},
   "source": [
    "# Títulos\n",
    "\n",
    "Todos los títulos empiezan con signo ```#```\n",
    "\n",
    "# Título 1\n",
    "## Título 2\n",
    "### Título 3\n",
    "#### Título 4\n",
    "##### Título 5\n",
    "###### Título 6"
   ]
  },
  {
   "cell_type": "markdown",
   "id": "3626cc54",
   "metadata": {},
   "source": [
    "# Blockquote\n",
    "\n",
    "Los _blockquotes_ se hacen con el signo ```>```\n",
    "\n",
    "> # título del blockquote\n",
    "> Este es el párrafo del blockquote\n",
    ">\n",
    ">> Este es un blockquote anidado\n",
    ">> Tenemos más texto\n",
    ">\n",
    "> ## Segunda parte\n",
    "> Más texto"
   ]
  },
  {
   "cell_type": "markdown",
   "id": "db238855",
   "metadata": {},
   "source": [
    "# Énfasis\n",
    "\n",
    "Se pueden poner **negrillas** con doble carácter ```**``` o un ```__```\n",
    "\n",
    "Se pueden poner *italicas* con un solo carácter ```*``` o un ```_```\n",
    "\n",
    "Se hacer ~~tachado~~ utilizando doble virgulilla ```~~```"
   ]
  },
  {
   "cell_type": "markdown",
   "id": "fa16a776",
   "metadata": {},
   "source": [
    "# Listas\n",
    "\n",
    "## Ordenadas\n",
    "\n",
    "1. Colores\n",
    "  1. Rojo\n",
    "  2. Azul\n",
    "  3. Verde\n",
    "2. Sabores\n",
    "  1. Salado\n",
    "  2. Dulce\n",
    "\n",
    "## No ordenadas\n",
    "\n",
    "* Animales\n",
    "  - Perro\n",
    "  - Gato\n",
    "  - Caiman\n",
    "* Frutas\n",
    "  - Citricos\n",
    "    + Limon\n",
    "    + Naranja\n",
    "    + Toronja\n",
    "  - Manzana\n",
    "  - Pera\n",
    "  "
   ]
  },
  {
   "cell_type": "markdown",
   "id": "dce4e452",
   "metadata": {},
   "source": [
    "# Enlaces\n",
    "\n",
    "Un enlace siempre tiene la forma ```[nombre](url)\"tooltip\"```\n",
    "\n",
    "### Libros\n",
    "* [Git Book](https://git-scm.com/book/en/v2)\n",
    "* [Colección de Libros de Python](https://wiki.python.org/moin/PythonBooks)\n"
   ]
  },
  {
   "cell_type": "code",
   "execution_count": 2,
   "id": "065db4a1",
   "metadata": {},
   "outputs": [
    {
     "data": {
      "text/html": [
       "<iframe width=\"560\" height=\"315\" src=\"https://www.youtube.com/embed/8ASjvOIyyl8\" title=\"YouTube video player\" frameborder=\"0\" allow=\"accelerometer; autoplay; clipboard-write; encrypted-media; gyroscope; picture-in-picture\" allowfullscreen></iframe>\n"
      ],
      "text/plain": [
       "<IPython.core.display.HTML object>"
      ]
     },
     "metadata": {},
     "output_type": "display_data"
    }
   ],
   "source": [
    "%%HTML\n",
    "<iframe width=\"560\" height=\"315\" src=\"https://www.youtube.com/embed/8ASjvOIyyl8\" title=\"YouTube video player\" frameborder=\"0\" allow=\"accelerometer; autoplay; clipboard-write; encrypted-media; gyroscope; picture-in-picture\" allowfullscreen></iframe>"
   ]
  },
  {
   "cell_type": "markdown",
   "id": "6a69938c",
   "metadata": {},
   "source": [
    "# Imágenes\n",
    "\n",
    "Las imágenes tienen la forma ```![nombre](url)```\n",
    "\n",
    "![Jupyter](https://cdn.icon-icons.com/icons2/2699/PNG/512/jupyter_logo_icon_169453.png)"
   ]
  },
  {
   "cell_type": "markdown",
   "id": "d604c09f",
   "metadata": {},
   "source": [
    "# Código\n",
    "\n",
    "Utilizar 4 espacios:\n",
    "\n",
    "    frutas = ['pera', 'manzana', 'piña']\n",
    "    for fruta in frutas:\n",
    "        print(fruta)\n",
    "\n",
    "En un bloque de código (4 espacios), los TAGs HTML no tiene efecto:\n",
    "\n",
    "    <html>\n",
    "      <head>\n",
    "        <title>No pasa nada</title>\n",
    "      </head>\n",
    "      <body>\n",
    "      </body>\n",
    "    </html>\n",
    "\n",
    "También se crea un bloque de código con triple comilla invertida, y le indico el lenguage:\n",
    "\n",
    "```python\n",
    "frutas = ['pera', 'manzana', 'piña']\n",
    "for fruta in frutas:\n",
    "    print(fruta)\n",
    "```\n",
    "\n",
    "Otro ejemplo:\n",
    "\n",
    "```html\n",
    "<html>\n",
    "  <head>\n",
    "    <title>No pasa nada</title>\n",
    "  </head>\n",
    "  <body>\n",
    "  </body>\n",
    "</html>\n",
    "```"
   ]
  },
  {
   "cell_type": "markdown",
   "id": "3bf35e22",
   "metadata": {},
   "source": [
    "# Tablas\n",
    "\n",
    "|Cedula|Nombre|Ciudad|\n",
    "|------|------|------|\n",
    "|39494423|Juan|Cali|\n",
    "|1101894333|Angie|Cartago|\n",
    "|1014888234|Pedro|Bogota|"
   ]
  },
  {
   "cell_type": "code",
   "execution_count": 6,
   "id": "79f99496",
   "metadata": {},
   "outputs": [
    {
     "name": "stdout",
     "output_type": "stream",
     "text": [
      "total 8\r\n",
      "-rw-rw-r-- 1 ubuntu ubuntu    7 Jun 16 01:56 README.md\r\n",
      "-rw-rw-r-- 1 ubuntu ubuntu 2708 Jun 17 02:21 notebook1.ipynb\r\n"
     ]
    }
   ],
   "source": [
    "!ls -l"
   ]
  },
  {
   "cell_type": "code",
   "execution_count": 5,
   "id": "db728496",
   "metadata": {},
   "outputs": [
    {
     "data": {
      "text/plain": [
       "'/home/ubuntu/notebook'"
      ]
     },
     "execution_count": 5,
     "metadata": {},
     "output_type": "execute_result"
    }
   ],
   "source": [
    "%pwd"
   ]
  },
  {
   "cell_type": "code",
   "execution_count": null,
   "id": "a9463479",
   "metadata": {},
   "outputs": [],
   "source": []
  }
 ],
 "metadata": {
  "kernelspec": {
   "display_name": "Python 3",
   "language": "python",
   "name": "python3"
  },
  "language_info": {
   "codemirror_mode": {
    "name": "ipython",
    "version": 3
   },
   "file_extension": ".py",
   "mimetype": "text/x-python",
   "name": "python",
   "nbconvert_exporter": "python",
   "pygments_lexer": "ipython3",
   "version": "3.7.10"
  }
 },
 "nbformat": 4,
 "nbformat_minor": 5
}
